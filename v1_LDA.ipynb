{
 "cells": [
  {
   "cell_type": "code",
   "execution_count": 13,
   "metadata": {},
   "outputs": [
    {
     "name": "stderr",
     "output_type": "stream",
     "text": [
      "[nltk_data] Downloading package stopwords to\n",
      "[nltk_data]     /Users/tanmaybhardwaj/nltk_data...\n",
      "[nltk_data]   Package stopwords is already up-to-date!\n",
      "[nltk_data] Downloading package wordnet to\n",
      "[nltk_data]     /Users/tanmaybhardwaj/nltk_data...\n",
      "[nltk_data]   Package wordnet is already up-to-date!\n",
      "[nltk_data] Downloading package omw-1.4 to\n",
      "[nltk_data]     /Users/tanmaybhardwaj/nltk_data...\n"
     ]
    },
    {
     "data": {
      "text/plain": [
       "True"
      ]
     },
     "execution_count": 13,
     "metadata": {},
     "output_type": "execute_result"
    }
   ],
   "source": [
    "import nltk\n",
    "nltk.download('stopwords')\n",
    "nltk.download('wordnet')\n",
    "nltk.download('omw-1.4')"
   ]
  },
  {
   "cell_type": "code",
   "execution_count": 14,
   "metadata": {},
   "outputs": [],
   "source": [
    "import pandas as pd\n",
    "from gensim import corpora, models\n",
    "import gensim\n",
    "import re\n",
    "from nltk.corpus import stopwords\n",
    "from nltk.stem.wordnet import WordNetLemmatizer\n",
    "import string"
   ]
  },
  {
   "cell_type": "code",
   "execution_count": 34,
   "metadata": {},
   "outputs": [],
   "source": [
    "# 1. Data Loading\n",
    "data = pd.read_csv('foodstamp_submissions_allyears.csv')"
   ]
  },
  {
   "cell_type": "code",
   "execution_count": 35,
   "metadata": {},
   "outputs": [],
   "source": [
    "# 2. Data Filtering\n",
    "# Filter for entries where 'California' is mentioned in the 'url', 'selftext', 'permalink', or 'title' columns\n",
    "filtered_data = data[data['url'].str.contains('California', case=False, na=False) |\n",
    "                     data['selftext'].str.contains('California', case=False, na=False) |\n",
    "                     data['permalink'].str.contains('California', case=False, na=False) |\n",
    "                     data['title'].str.contains('California', case=False, na=False)]\n",
    "\n",
    "# Remove rows where 'selftext' is '[deleted]' or '[removed]'\n",
    "filtered_data = filtered_data[~filtered_data['selftext'].str.contains('\\[deleted\\]', case=False, na=False)]\n",
    "filtered_data = filtered_data[~filtered_data['selftext'].str.contains('\\[removed\\]', case=False, na=False)]"
   ]
  },
  {
   "cell_type": "code",
   "execution_count": 36,
   "metadata": {},
   "outputs": [],
   "source": [
    "# 3. Data Preprocessing\n",
    "# Handle NaN values and ensure the data type is string\n",
    "filtered_data['selftext'] = filtered_data['selftext'].fillna('')\n",
    "# Remove punctuation, numbers, and special characters\n",
    "filtered_data['clean_selftext'] = filtered_data['selftext'].map(lambda x: re.sub('[,\\.!?]', '', x))\n",
    "filtered_data['clean_selftext'] = filtered_data['clean_selftext'].map(lambda x: re.sub('\\d+', '', x))\n",
    "# Convert to lowercase\n",
    "filtered_data['clean_selftext'] = filtered_data['clean_selftext'].map(lambda x: x.lower())\n"
   ]
  },
  {
   "cell_type": "code",
   "execution_count": 37,
   "metadata": {},
   "outputs": [],
   "source": [
    "# Remove stop words and perform lemmatization\n",
    "\n",
    "# Add custom stopwords\n",
    "stop_words = set(stopwords.words('english'))\n",
    "custom_stopwords = [\"i'm\",\"im\", \"i've\", \"im\", \"ive\",\"hi\",\"etc\",\"would\",\"want\",\"get\",\"Äôt\"]\n",
    "stop_words = stop_words.union(custom_stopwords)\n",
    "\n",
    "exclude = set(string.punctuation) \n",
    "lemma = WordNetLemmatizer()\n",
    "\n",
    "def clean(doc):\n",
    "    stop_free = \" \".join([i for i in doc.lower().split() if i not in stop_words])\n",
    "    punc_free = ''.join(ch for ch in stop_free if ch not in exclude)\n",
    "    normalized = \" \".join(lemma.lemmatize(word) for word in punc_free.split())\n",
    "    return normalized\n",
    "\n",
    "#stop = set(stopwords.words('english'))\n",
    "#exclude = set(string.punctuation) \n",
    "#lemma = WordNetLemmatizer()\n",
    "# def clean(doc):\n",
    "#     stop_free = \" \".join([i for i in doc.lower().split() if i not in stop])\n",
    "#     punc_free = ''.join(ch for ch in stop_free if ch not in exclude)\n",
    "#     normalized = \" \".join(lemma.lemmatize(word) for word in punc_free.split())\n",
    "#     return normalized\n",
    "\n",
    "clean_text = [clean(doc).split() for doc in filtered_data['clean_selftext']]\n",
    "\n",
    "# Creating the term dictionary of our corpus, where every unique term is assigned an index\n",
    "dictionary = corpora.Dictionary(clean_text)\n",
    "\n",
    "# Converting list of documents (corpus) into Document Term Matrix using the dictionary prepared above\n",
    "doc_term_matrix = [dictionary.doc2bow(doc) for doc in clean_text]"
   ]
  },
  {
   "cell_type": "code",
   "execution_count": null,
   "metadata": {},
   "outputs": [],
   "source": [
    "#Deciding on what value of num_topic to choose for the most optimal results"
   ]
  },
  {
   "cell_type": "code",
   "execution_count": 38,
   "metadata": {},
   "outputs": [],
   "source": [
    "# 4. LDA Modeling\n",
    "# Creating the object for LDA model using gensim library & Training LDA model on the document term matrix\n",
    "ldamodel = gensim.models.ldamodel.LdaModel(doc_term_matrix, num_topics=8, id2word = dictionary, passes=50)\n"
   ]
  },
  {
   "cell_type": "code",
   "execution_count": 39,
   "metadata": {},
   "outputs": [
    {
     "name": "stdout",
     "output_type": "stream",
     "text": [
      "(0, '0.015*\"food\" + 0.010*\"stamp\" + 0.009*\"household\" + 0.007*\"gt\" + 0.007*\"resource\" + 0.007*\"california\" + 0.006*\"limit\" + 0.005*\"account\" + 0.005*\"class\" + 0.005*\"income\"')\n",
      "(1, '0.014*\"california\" + 0.008*\"food\" + 0.007*\"snap\" + 0.007*\"income\" + 0.007*\"county\" + 0.007*\"month\" + 0.006*\"calfresh\" + 0.006*\"time\" + 0.006*\"need\" + 0.005*\"like\"')\n",
      "(2, '0.023*\"california\" + 0.016*\"benefit\" + 0.012*\"food\" + 0.012*\"income\" + 0.011*\"calfresh\" + 0.011*\"i’m\" + 0.010*\"county\" + 0.009*\"pay\" + 0.008*\"live\" + 0.008*\"stamp\"')\n",
      "(3, '0.023*\"card\" + 0.016*\"california\" + 0.013*\"ebt\" + 0.013*\"month\" + 0.012*\"know\" + 0.010*\"benefit\" + 0.009*\"food\" + 0.009*\"back\" + 0.008*\"case\" + 0.008*\"got\"')\n",
      "(4, '0.021*\"benefit\" + 0.018*\"month\" + 0.014*\"income\" + 0.012*\"received\" + 0.011*\"calfresh\" + 0.009*\"got\" + 0.009*\"call\" + 0.009*\"report\" + 0.008*\"california\" + 0.007*\"th\"')\n",
      "(5, '0.010*\"ebt\" + 0.008*\"use\" + 0.007*\"california\" + 0.007*\"day\" + 0.006*\"need\" + 0.006*\"month\" + 0.006*\"say\" + 0.006*\"benefit\" + 0.006*\"one\" + 0.005*\"case\"')\n",
      "(6, '0.020*\"card\" + 0.014*\"california\" + 0.011*\"food\" + 0.009*\"ebt\" + 0.009*\"benefit\" + 0.008*\"use\" + 0.007*\"received\" + 0.006*\"county\" + 0.006*\"program\" + 0.006*\"still\"')\n",
      "(7, '0.013*\"calfresh\" + 0.012*\"time\" + 0.012*\"county\" + 0.009*\"work\" + 0.008*\"california\" + 0.007*\"i’m\" + 0.007*\"benefit\" + 0.006*\"know\" + 0.006*\"account\" + 0.006*\"application\"')\n"
     ]
    }
   ],
   "source": [
    "# 5. Result Interpretation\n",
    "# Print the topics and the weights of words\n",
    "topics = ldamodel.print_topics(num_words=10)\n",
    "for topic in topics:\n",
    "    print(topic)"
   ]
  },
  {
   "cell_type": "code",
   "execution_count": null,
   "metadata": {},
   "outputs": [],
   "source": []
  }
 ],
 "metadata": {
  "kernelspec": {
   "display_name": "Python 3.10.9 ('base')",
   "language": "python",
   "name": "python3"
  },
  "language_info": {
   "codemirror_mode": {
    "name": "ipython",
    "version": 3
   },
   "file_extension": ".py",
   "mimetype": "text/x-python",
   "name": "python",
   "nbconvert_exporter": "python",
   "pygments_lexer": "ipython3",
   "version": "3.10.9"
  },
  "orig_nbformat": 4,
  "vscode": {
   "interpreter": {
    "hash": "1eb14c017a40174f1cd2873120226af2c3765f9e1b4e1a76ddbb97d090fc061c"
   }
  }
 },
 "nbformat": 4,
 "nbformat_minor": 2
}
