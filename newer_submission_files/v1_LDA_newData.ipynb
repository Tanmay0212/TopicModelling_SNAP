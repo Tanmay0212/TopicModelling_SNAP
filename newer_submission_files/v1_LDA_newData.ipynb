{
 "cells": [
  {
   "cell_type": "code",
   "execution_count": 24,
   "metadata": {},
   "outputs": [],
   "source": [
    "#Author Tanmay\n",
    "\n",
    "import pandas as pd\n",
    "from gensim import corpora, models\n",
    "import gensim\n",
    "import re\n",
    "from nltk.corpus import stopwords\n",
    "from nltk.stem.wordnet import WordNetLemmatizer\n",
    "from gensim.models import CoherenceModel\n",
    "import string\n",
    "from wordcloud import WordCloud"
   ]
  },
  {
   "cell_type": "code",
   "execution_count": 25,
   "metadata": {},
   "outputs": [],
   "source": [
    "# List of your CSV files\n",
    "csv_files = ['data1.csv', 'data2.csv', 'data3.csv', 'data4.csv', 'data5.csv', 'data6.csv', 'data7.csv', 'data8.csv']\n",
    "\n",
    "# Initialize an empty list to store the DataFrames\n",
    "dfs = []\n",
    "\n",
    "# Iterate over the CSV files, read each into a DataFrame, and append to the list\n",
    "for file_name in csv_files:\n",
    "    df = pd.read_csv(file_name)\n",
    "    dfs.append(df)\n",
    "\n",
    "# Concatenate all DataFrames in the list into a single DataFrame\n",
    "combined_df = pd.concat(dfs, ignore_index=True)\n"
   ]
  },
  {
   "cell_type": "code",
   "execution_count": 26,
   "metadata": {},
   "outputs": [],
   "source": [
    "# Filter out rows where the \"Comment\" column is empty\n",
    "combined_df = combined_df[combined_df['Comment'].notna() & (combined_df['Comment'] != '')]"
   ]
  },
  {
   "cell_type": "code",
   "execution_count": 27,
   "metadata": {},
   "outputs": [],
   "source": [
    "# Define a function to concatenate unique values with a given separator\n",
    "def unique_concat(series, separator=' | '):\n",
    "    # Convert series to string to ensure .unique() and join() work correctly\n",
    "    series_str = series.astype(str)\n",
    "    return separator.join(series_str.unique())\n",
    "\n",
    "# Aggregate the DataFrame by 'Author', applying the unique_concat function to 'Title' and 'Comment'\n",
    "cleaned_data1 = combined_df.groupby('Author').agg({\n",
    "    'Title': lambda x: unique_concat(x, ' | '),\n",
    "    'Comment': lambda x: unique_concat(x, '\\n\\n')\n",
    "}).reset_index()\n",
    "\n",
    "cleaned_data1['text'] = cleaned_data1['Title'] + \" \" +  cleaned_data1['Comment']\n",
    "\n",
    "cleaned_data1['text'] = cleaned_data1['text'].map(lambda x: x.lower())\n",
    "#cleaned_data1['text'].to_csv('cleaneddata1.csv', index=False)"
   ]
  },
  {
   "cell_type": "code",
   "execution_count": 28,
   "metadata": {},
   "outputs": [
    {
     "name": "stderr",
     "output_type": "stream",
     "text": [
      "/var/folders/5s/bzn_bky51k3bk9glk6bcxst40000gn/T/ipykernel_2876/1949451165.py:8: SettingWithCopyWarning: \n",
      "A value is trying to be set on a copy of a slice from a DataFrame.\n",
      "Try using .loc[row_indexer,col_indexer] = value instead\n",
      "\n",
      "See the caveats in the documentation: https://pandas.pydata.org/pandas-docs/stable/user_guide/indexing.html#returning-a-view-versus-a-copy\n",
      "  cleaned_data2['text'] = cleaned_data2['title'] + \" \" +  cleaned_data2['selftext']\n",
      "/var/folders/5s/bzn_bky51k3bk9glk6bcxst40000gn/T/ipykernel_2876/1949451165.py:12: SettingWithCopyWarning: \n",
      "A value is trying to be set on a copy of a slice from a DataFrame.\n",
      "Try using .loc[row_indexer,col_indexer] = value instead\n",
      "\n",
      "See the caveats in the documentation: https://pandas.pydata.org/pandas-docs/stable/user_guide/indexing.html#returning-a-view-versus-a-copy\n",
      "  cleaned_data2['text'] = cleaned_data2['text'].fillna('')\n",
      "/var/folders/5s/bzn_bky51k3bk9glk6bcxst40000gn/T/ipykernel_2876/1949451165.py:14: SettingWithCopyWarning: \n",
      "A value is trying to be set on a copy of a slice from a DataFrame.\n",
      "Try using .loc[row_indexer,col_indexer] = value instead\n",
      "\n",
      "See the caveats in the documentation: https://pandas.pydata.org/pandas-docs/stable/user_guide/indexing.html#returning-a-view-versus-a-copy\n",
      "  cleaned_data2['text'] = cleaned_data2['text'].str.replace(r'http\\S+', '', regex=True)\n",
      "/var/folders/5s/bzn_bky51k3bk9glk6bcxst40000gn/T/ipykernel_2876/1949451165.py:16: SettingWithCopyWarning: \n",
      "A value is trying to be set on a copy of a slice from a DataFrame.\n",
      "Try using .loc[row_indexer,col_indexer] = value instead\n",
      "\n",
      "See the caveats in the documentation: https://pandas.pydata.org/pandas-docs/stable/user_guide/indexing.html#returning-a-view-versus-a-copy\n",
      "  cleaned_data2['clean_selftext'] = cleaned_data2['text'].map(lambda x: re.sub('[,\\.!?]', '', x))\n",
      "/var/folders/5s/bzn_bky51k3bk9glk6bcxst40000gn/T/ipykernel_2876/1949451165.py:17: SettingWithCopyWarning: \n",
      "A value is trying to be set on a copy of a slice from a DataFrame.\n",
      "Try using .loc[row_indexer,col_indexer] = value instead\n",
      "\n",
      "See the caveats in the documentation: https://pandas.pydata.org/pandas-docs/stable/user_guide/indexing.html#returning-a-view-versus-a-copy\n",
      "  cleaned_data2['clean_selftext'] = cleaned_data2['clean_selftext'].map(lambda x: re.sub('\\d+', '', x))\n",
      "/var/folders/5s/bzn_bky51k3bk9glk6bcxst40000gn/T/ipykernel_2876/1949451165.py:19: SettingWithCopyWarning: \n",
      "A value is trying to be set on a copy of a slice from a DataFrame.\n",
      "Try using .loc[row_indexer,col_indexer] = value instead\n",
      "\n",
      "See the caveats in the documentation: https://pandas.pydata.org/pandas-docs/stable/user_guide/indexing.html#returning-a-view-versus-a-copy\n",
      "  cleaned_data2['clean_selftext'] = cleaned_data2['clean_selftext'].map(lambda x: x.lower())\n"
     ]
    }
   ],
   "source": [
    "data = pd.read_csv('foodstamp_submissions_allyears.csv')\n",
    "\n",
    "cleaned_data2 = data[\n",
    "    ~data['selftext'].str.contains('\\[deleted\\]', case=False, na=False) &\n",
    "    ~data['selftext'].str.contains('\\[removed\\]', case=False, na=False)\n",
    "]\n",
    "\n",
    "cleaned_data2['text'] = cleaned_data2['title'] + \" \" +  cleaned_data2['selftext']\n",
    "\n",
    "# 3. Data Preprocessing\n",
    "# Handle NaN values and ensure the data type is string\n",
    "cleaned_data2['text'] = cleaned_data2['text'].fillna('')\n",
    "#Removing any links\n",
    "cleaned_data2['text'] = cleaned_data2['text'].str.replace(r'http\\S+', '', regex=True)\n",
    "# Remove punctuation, numbers, and special characters\n",
    "cleaned_data2['clean_selftext'] = cleaned_data2['text'].map(lambda x: re.sub('[,\\.!?]', '', x))\n",
    "cleaned_data2['clean_selftext'] = cleaned_data2['clean_selftext'].map(lambda x: re.sub('\\d+', '', x))\n",
    "# Convert to lowercase\n",
    "cleaned_data2['clean_selftext'] = cleaned_data2['clean_selftext'].map(lambda x: x.lower())\n",
    "\n",
    "#cleaned_data2['clean_selftext'].to_csv('cleaneddata2.csv', index=False)\n",
    "\n"
   ]
  },
  {
   "cell_type": "code",
   "execution_count": 31,
   "metadata": {},
   "outputs": [
    {
     "name": "stdout",
     "output_type": "stream",
     "text": [
      "8761\n"
     ]
    }
   ],
   "source": [
    "# Extract the Series from each DataFrame\n",
    "series1 = cleaned_data2['clean_selftext']\n",
    "series2 = cleaned_data1['text']\n",
    "\n",
    "# Concatenate the two Series into one\n",
    "combined_series = pd.concat([series1, series2], ignore_index=True)\n",
    "\n",
    "# Create a new DataFrame from the combined Series\n",
    "new_df = pd.DataFrame(combined_series, columns=['data'])\n",
    "print(new_df.size)"
   ]
  },
  {
   "cell_type": "code",
   "execution_count": 21,
   "metadata": {},
   "outputs": [],
   "source": [
    "# Remove stop words and perform lemmatization\n",
    "\n",
    "# Add custom stopwords\n",
    "stop_words = set(stopwords.words('english'))\n",
    "custom_stopwords = [\"i'm\",\"im\", \"i've\", \"im\", \"ive\",\"hi\",\"etc\",\"would\",\"want\"\n",
    ",\"get\",\"Äôt\",\"ampxb\",\"thanks\",\"i’m\",\"got\",\"th\",\"irt\",\"san\",\"ca\",\"u\",\"cal\",\"calfresh\"\n",
    ",\"los\",\"angeles\",\"told\",\"said\",\"doesnt\",\"s\",\"k\",\"&amp\",\"#xb\",\"snap\",\"stamp\",\"ohio\"\n",
    ",\"alabama\",\"still\",\"know\",\"like\",\"ebt\",\"please\",\"people\",\"california\",\"change\"\n",
    ",\"live\",\"back\",\"thing\",\"need\",\"last\",\"food\",\"stamp\",\"it’s\",\"don't\",\"york\"]\n",
    "\n",
    "stop_words = stop_words.union(custom_stopwords)\n",
    "\n",
    "exclude = set(string.punctuation) \n",
    "lemma = WordNetLemmatizer()\n",
    "\n",
    "def clean(doc):\n",
    "    stop_free = \" \".join([i for i in doc.lower().split() if i not in stop_words])\n",
    "    punc_free = ''.join(ch for ch in stop_free if ch not in exclude)\n",
    "    normalized = \" \".join(lemma.lemmatize(word) for word in punc_free.split())\n",
    "    return normalized\n",
    "\n",
    "clean_text = [clean(doc).split() for doc in new_df['data']]\n",
    "\n",
    "# Creating the term dictionary of our corpus, where every unique term is assigned an index\n",
    "dictionary = corpora.Dictionary(clean_text)\n",
    "\n",
    "# Converting list of documents (corpus) into Document Term Matrix using the dictionary prepared above\n",
    "doc_term_matrix = [dictionary.doc2bow(doc) for doc in clean_text]"
   ]
  },
  {
   "cell_type": "code",
   "execution_count": 9,
   "metadata": {},
   "outputs": [
    {
     "data": {
      "image/png": "[encoded data removed]",
      "text/plain": [
       "<Figure size 640x480 with 1 Axes>"
      ]
     },
     "metadata": {},
     "output_type": "display_data"
    },
    {
     "name": "stdout",
     "output_type": "stream",
     "text": [
      "Num Topics = 2  has Coherence Value of 0.3952\n",
      "Num Topics = 4  has Coherence Value of 0.3788\n",
      "Num Topics = 6  has Coherence Value of 0.4039\n",
      "Num Topics = 8  has Coherence Value of 0.4465\n"
     ]
    }
   ],
   "source": [
    "#Deciding on what value of num_topic to choose for the most optimal results\n",
    "#No Need to run this as, num_topics = 8 performed the best\n",
    "def compute_coherence_values(dictionary, corpus, texts, limit, start=2, step=2):\n",
    "    coherence_values = []\n",
    "    model_list = []\n",
    "    for num_topics in range(start, limit, step):\n",
    "        # Build LDA model\n",
    "        model = gensim.models.ldamodel.LdaModel(corpus=corpus, num_topics=num_topics, id2word=dictionary, passes=15)\n",
    "        model_list.append(model)\n",
    "        \n",
    "        # Compute Coherence Score using c_v\n",
    "        coherencemodel = CoherenceModel(model=model, texts=texts, dictionary=dictionary, coherence='c_v')\n",
    "        coherence_values.append(coherencemodel.get_coherence())\n",
    "\n",
    "    return model_list, coherence_values\n",
    "\n",
    "# Can take a long time to run.\n",
    "model_list, coherence_values = compute_coherence_values(dictionary=dictionary, corpus=doc_term_matrix, texts=clean_text, start=2, limit=10, step=2)\n",
    "\n",
    "# Show graph\n",
    "import matplotlib.pyplot as plt\n",
    "\n",
    "limit=10; start=2; step=2;\n",
    "x = range(start, limit, step)\n",
    "plt.plot(x, coherence_values)\n",
    "plt.xlabel(\"Num Topics\")\n",
    "plt.ylabel(\"Coherence score\")\n",
    "plt.legend((\"coherence_values\"), loc='best')\n",
    "plt.show()\n",
    "\n",
    "# Print the coherence scores\n",
    "for m, cv in zip(x, coherence_values):\n",
    "    print(\"Num Topics =\", m, \" has Coherence Value of\", round(cv, 4))\n"
   ]
  },
  {
   "cell_type": "code",
   "execution_count": 22,
   "metadata": {},
   "outputs": [],
   "source": [
    "# 4. LDA Modeling\n",
    "# Creating the object for LDA model using gensim library & Training LDA model on the document term matrix\n",
    "ldamodel = gensim.models.ldamodel.LdaModel(doc_term_matrix, num_topics=8, id2word = dictionary, passes=50)"
   ]
  },
  {
   "cell_type": "code",
   "execution_count": 23,
   "metadata": {},
   "outputs": [
    {
     "name": "stdout",
     "output_type": "stream",
     "text": [
      "(0, '0.022*\"income\" + 0.015*\"state\" + 0.014*\"work\" + 0.011*\"student\" + 0.010*\"program\" + 0.009*\"limit\" + 0.009*\"requirement\" + 0.008*\"benefit\" + 0.008*\"year\" + 0.008*\"household\"')\n",
      "(1, '0.020*\"fraud\" + 0.014*\"investigator\" + 0.012*\"report\" + 0.009*\"investigation\" + 0.007*\"jail\" + 0.007*\"time\" + 0.007*\"louisiana\" + 0.006*\"file\" + 0.006*\"investigated\" + 0.005*\"name\"')\n",
      "(2, '0.015*\"card\" + 0.010*\"use\" + 0.010*\"grocery\" + 0.010*\"store\" + 0.009*\"account\" + 0.009*\"state\" + 0.008*\"item\" + 0.008*\"buy\" + 0.007*\"walmart\" + 0.006*\"meal\"')\n",
      "(3, '0.038*\"benefit\" + 0.037*\"month\" + 0.024*\"card\" + 0.016*\"amount\" + 0.014*\"anyone\" + 0.013*\"received\" + 0.013*\"approved\" + 0.013*\"balance\" + 0.012*\"deposit\" + 0.010*\"allotment\"')\n",
      "(4, '0.014*\"stamp\" + 0.013*\"pay\" + 0.010*\"work\" + 0.010*\"help\" + 0.010*\"rent\" + 0.009*\"make\" + 0.009*\"month\" + 0.009*\"job\" + 0.009*\"time\" + 0.009*\"year\"')\n",
      "(5, '0.028*\"form\" + 0.013*\"proof\" + 0.009*\"verification\" + 0.008*\"letter\" + 0.008*\"pay\" + 0.008*\"statement\" + 0.008*\"fill\" + 0.007*\"send\" + 0.007*\"paper\" + 0.006*\"bank\"')\n",
      "(6, '0.016*\"call\" + 0.015*\"card\" + 0.014*\"case\" + 0.011*\"day\" + 0.011*\"interview\" + 0.011*\"time\" + 0.011*\"called\" + 0.010*\"phone\" + 0.009*\"benefit\" + 0.009*\"say\"')\n",
      "(7, '0.044*\"income\" + 0.028*\"report\" + 0.026*\"benefit\" + 0.025*\"job\" + 0.022*\"month\" + 0.010*\"county\" + 0.009*\"new\" + 0.009*\"week\" + 0.008*\"unemployment\" + 0.008*\"reported\"')\n"
     ]
    }
   ],
   "source": [
    "# 5. Result Interpretation\n",
    "# Print the topics and the weights of words\n",
    "topics = ldamodel.print_topics(num_words=10)\n",
    "for topic in topics:\n",
    "    print(topic)"
   ]
  },
  {
   "cell_type": "code",
   "execution_count": null,
   "metadata": {},
   "outputs": [],
   "source": []
  }
 ],
 "metadata": {
  "kernelspec": {
   "display_name": "Python 3.10.9 ('base')",
   "language": "python",
   "name": "python3"
  },
  "language_info": {
   "codemirror_mode": {
    "name": "ipython",
    "version": 3
   },
   "file_extension": ".py",
   "mimetype": "text/x-python",
   "name": "python",
   "nbconvert_exporter": "python",
   "pygments_lexer": "ipython3",
   "version": "3.10.9"
  },
  "orig_nbformat": 4,
  "vscode": {
   "interpreter": {
    "hash": "1eb14c017a40174f1cd2873120226af2c3765f9e1b4e1a76ddbb97d090fc061c"
   }
  }
 },
 "nbformat": 4,
 "nbformat_minor": 2
}
