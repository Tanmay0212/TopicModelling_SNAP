{
 "cells": [
  {
   "cell_type": "code",
   "execution_count": 16,
   "metadata": {},
   "outputs": [],
   "source": [
    "#Author Tanmay\n",
    "\n",
    "import pandas as pd\n",
    "from gensim import corpora, models\n",
    "import gensim\n",
    "import re\n",
    "from nltk.corpus import stopwords\n",
    "from nltk.stem.wordnet import WordNetLemmatizer\n",
    "from gensim.models import CoherenceModel\n",
    "import string\n",
    "from wordcloud import WordCloud"
   ]
  },
  {
   "cell_type": "code",
   "execution_count": 55,
   "metadata": {},
   "outputs": [],
   "source": [
    "# 1. Data Loading\n",
    "data = pd.read_csv('foodstamp_submissions_allyears.csv')\n",
    "\n",
    "#2 Preprocessing\n",
    "\n",
    "filtered_data = data[\n",
    "    ~data['selftext'].str.contains('\\[deleted\\]', case=False, na=False) &\n",
    "    ~data['selftext'].str.contains('\\[removed\\]', case=False, na=False)\n",
    "]\n",
    "\n",
    "# 3. Data Preprocessing\n",
    "# Handle NaN values and ensure the data type is string\n",
    "filtered_data['selftext'] = filtered_data['selftext'].fillna('')\n",
    "#Removing any links\n",
    "filtered_data['selftext'] = filtered_data['selftext'].str.replace(r'http\\S+', '', regex=True)\n",
    "# Remove punctuation, numbers, and special characters\n",
    "filtered_data['clean_selftext'] = filtered_data['selftext'].map(lambda x: re.sub('[,\\.!?]', '', x))\n",
    "filtered_data['clean_selftext'] = filtered_data['clean_selftext'].map(lambda x: re.sub('\\d+', '', x))\n",
    "# Convert to lowercase\n",
    "filtered_data['clean_selftext'] = filtered_data['clean_selftext'].map(lambda x: x.lower())\n"
   ]
  },
  {
   "cell_type": "code",
   "execution_count": 56,
   "metadata": {},
   "outputs": [],
   "source": [
    "#Creating a list from the dataframe as BERT expects list of docs as inputs\n",
    "docs = filtered_data['clean_selftext'].tolist()\n",
    "\n",
    "# Load English stopwords\n",
    "stop_words = set(stopwords.words('english'))\n",
    "\n",
    "custom_stopwords = [\"i'm\",\"im\", \"i've\", \"im\", \"ive\",\"hi\",\"etc\",\"would\",\"want\"\n",
    ",\"get\",\"Äôt\",\"ampxb\",\"thanks\",\"i’m\",\"got\",\"th\",\"irt\",\"san\",\"ca\",\"u\",\"cal\",\"calfresh\"\n",
    ",\"los\",\"angeles\",\"told\",\"said\",\"doesnt\",\"s\",\"k\",\"snap\",\"still\",\"lkjghfdsretrytukrltioyulk\"\n",
    "\"rexdtrfuygihojpojihugygtfchjukijlop\",\"gtgt\",\"chillin\"]\n",
    "\n",
    "all_stopwords = stop_words.union(set(custom_stopwords))\n",
    "\n",
    "# Function to remove stopwords from a document\n",
    "def remove_stopwords(text):\n",
    "    tokens = text.split()\n",
    "    filtered_tokens = [word for word in tokens if word not in all_stopwords]\n",
    "    filtered_text = ' '.join(filtered_tokens)\n",
    "    return filtered_text\n",
    "\n",
    "# Apply the function to your documents\n",
    "docs_no_stopwords = [remove_stopwords(doc) for doc in docs]\n"
   ]
  },
  {
   "cell_type": "code",
   "execution_count": 64,
   "metadata": {},
   "outputs": [],
   "source": [
    "from bertopic import BERTopic\n",
    "\n",
    "# Create a BERTopic instance\n",
    "#topic_model = BERTopic(min_topic_size=20,nr_topics=\"auto\")\n",
    "\n",
    "topic_model = BERTopic()\n",
    "# Fit the model and transform your documents into topics\n",
    "topics, probs = topic_model.fit_transform(docs_no_stopwords)\n"
   ]
  },
  {
   "cell_type": "code",
   "execution_count": 65,
   "metadata": {},
   "outputs": [
    {
     "data": {
      "text/html": [
       "<div>\n",
       "<style scoped>\n",
       "    .dataframe tbody tr th:only-of-type {\n",
       "        vertical-align: middle;\n",
       "    }\n",
       "\n",
       "    .dataframe tbody tr th {\n",
       "        vertical-align: top;\n",
       "    }\n",
       "\n",
       "    .dataframe thead th {\n",
       "        text-align: right;\n",
       "    }\n",
       "</style>\n",
       "<table border=\"1\" class=\"dataframe\">\n",
       "  <thead>\n",
       "    <tr style=\"text-align: right;\">\n",
       "      <th></th>\n",
       "      <th>Topic</th>\n",
       "      <th>Count</th>\n",
       "      <th>Name</th>\n",
       "      <th>Representation</th>\n",
       "      <th>Representative_Docs</th>\n",
       "    </tr>\n",
       "  </thead>\n",
       "  <tbody>\n",
       "    <tr>\n",
       "      <th>0</th>\n",
       "      <td>-1</td>\n",
       "      <td>206</td>\n",
       "      <td>-1_gtgt_looms_cliff_</td>\n",
       "      <td>[gtgt, looms, cliff, , , , , , , ]</td>\n",
       "      <td>[, [cliff looms](, ]</td>\n",
       "    </tr>\n",
       "    <tr>\n",
       "      <th>1</th>\n",
       "      <td>0</td>\n",
       "      <td>5586</td>\n",
       "      <td>0_food_benefits_month_income</td>\n",
       "      <td>[food, benefits, month, income, card, know, st...</td>\n",
       "      <td>[female diagnosed generalized anxiety disorder...</td>\n",
       "    </tr>\n",
       "    <tr>\n",
       "      <th>2</th>\n",
       "      <td>1</td>\n",
       "      <td>59</td>\n",
       "      <td>1_california_diego_county_texas</td>\n",
       "      <td>[california, diego, county, texas, state, utah...</td>\n",
       "      <td>[california diego county), state california, a...</td>\n",
       "    </tr>\n",
       "    <tr>\n",
       "      <th>3</th>\n",
       "      <td>2</td>\n",
       "      <td>36</td>\n",
       "      <td>2____</td>\n",
       "      <td>[, , , , , , , , , ]</td>\n",
       "      <td>[, , ]</td>\n",
       "    </tr>\n",
       "    <tr>\n",
       "      <th>4</th>\n",
       "      <td>3</td>\n",
       "      <td>30</td>\n",
       "      <td>3_title_end_suppose_say</td>\n",
       "      <td>[title, end, suppose, say, anyone, lkjghfdsret...</td>\n",
       "      <td>[question title, title says, title says]</td>\n",
       "    </tr>\n",
       "    <tr>\n",
       "      <th>5</th>\n",
       "      <td>4</td>\n",
       "      <td>25</td>\n",
       "      <td>4_ckwe_recommendation_joined_too</td>\n",
       "      <td>[ckwe, recommendation, joined, too, subreddit,...</td>\n",
       "      <td>[, , (i joined seeing recommendation old post ...</td>\n",
       "    </tr>\n",
       "    <tr>\n",
       "      <th>6</th>\n",
       "      <td>5</td>\n",
       "      <td>21</td>\n",
       "      <td>5____</td>\n",
       "      <td>[, , , , , , , , , ]</td>\n",
       "      <td>[, , ]</td>\n",
       "    </tr>\n",
       "    <tr>\n",
       "      <th>7</th>\n",
       "      <td>6</td>\n",
       "      <td>18</td>\n",
       "      <td>6____</td>\n",
       "      <td>[, , , , , , , , , ]</td>\n",
       "      <td>[, , ]</td>\n",
       "    </tr>\n",
       "    <tr>\n",
       "      <th>8</th>\n",
       "      <td>7</td>\n",
       "      <td>15</td>\n",
       "      <td>7____</td>\n",
       "      <td>[, , , , , , , , , ]</td>\n",
       "      <td>[, , ]</td>\n",
       "    </tr>\n",
       "    <tr>\n",
       "      <th>9</th>\n",
       "      <td>8</td>\n",
       "      <td>15</td>\n",
       "      <td>8____</td>\n",
       "      <td>[, , , , , , , , , ]</td>\n",
       "      <td>[, , ]</td>\n",
       "    </tr>\n",
       "    <tr>\n",
       "      <th>10</th>\n",
       "      <td>9</td>\n",
       "      <td>15</td>\n",
       "      <td>9_motivate_uharas_helping_</td>\n",
       "      <td>[motivate, uharas, helping, , , , , , , ]</td>\n",
       "      <td>[, , /u/haras helping motivate]</td>\n",
       "    </tr>\n",
       "    <tr>\n",
       "      <th>11</th>\n",
       "      <td>10</td>\n",
       "      <td>15</td>\n",
       "      <td>10____</td>\n",
       "      <td>[, , , , , , , , , ]</td>\n",
       "      <td>[, , ]</td>\n",
       "    </tr>\n",
       "    <tr>\n",
       "      <th>12</th>\n",
       "      <td>11</td>\n",
       "      <td>15</td>\n",
       "      <td>11____</td>\n",
       "      <td>[, , , , , , , , , ]</td>\n",
       "      <td>[, , ]</td>\n",
       "    </tr>\n",
       "    <tr>\n",
       "      <th>13</th>\n",
       "      <td>12</td>\n",
       "      <td>14</td>\n",
       "      <td>12____</td>\n",
       "      <td>[, , , , , , , , , ]</td>\n",
       "      <td>[, , ]</td>\n",
       "    </tr>\n",
       "    <tr>\n",
       "      <th>14</th>\n",
       "      <td>13</td>\n",
       "      <td>14</td>\n",
       "      <td>13____</td>\n",
       "      <td>[, , , , , , , , , ]</td>\n",
       "      <td>[, , ]</td>\n",
       "    </tr>\n",
       "    <tr>\n",
       "      <th>15</th>\n",
       "      <td>14</td>\n",
       "      <td>14</td>\n",
       "      <td>14____</td>\n",
       "      <td>[, , , , , , , , , ]</td>\n",
       "      <td>[, , ]</td>\n",
       "    </tr>\n",
       "    <tr>\n",
       "      <th>16</th>\n",
       "      <td>15</td>\n",
       "      <td>14</td>\n",
       "      <td>15____</td>\n",
       "      <td>[, , , , , , , , , ]</td>\n",
       "      <td>[, , ]</td>\n",
       "    </tr>\n",
       "    <tr>\n",
       "      <th>17</th>\n",
       "      <td>16</td>\n",
       "      <td>14</td>\n",
       "      <td>16____</td>\n",
       "      <td>[, , , , , , , , , ]</td>\n",
       "      <td>[, , ]</td>\n",
       "    </tr>\n",
       "    <tr>\n",
       "      <th>18</th>\n",
       "      <td>17</td>\n",
       "      <td>14</td>\n",
       "      <td>17____</td>\n",
       "      <td>[, , , , , , , , , ]</td>\n",
       "      <td>[, , ]</td>\n",
       "    </tr>\n",
       "    <tr>\n",
       "      <th>19</th>\n",
       "      <td>18</td>\n",
       "      <td>14</td>\n",
       "      <td>18____</td>\n",
       "      <td>[, , , , , , , , , ]</td>\n",
       "      <td>[, , ]</td>\n",
       "    </tr>\n",
       "    <tr>\n",
       "      <th>20</th>\n",
       "      <td>19</td>\n",
       "      <td>14</td>\n",
       "      <td>19____</td>\n",
       "      <td>[, , , , , , , , , ]</td>\n",
       "      <td>[, , ]</td>\n",
       "    </tr>\n",
       "    <tr>\n",
       "      <th>21</th>\n",
       "      <td>20</td>\n",
       "      <td>13</td>\n",
       "      <td>20____</td>\n",
       "      <td>[, , , , , , , , , ]</td>\n",
       "      <td>[, , ]</td>\n",
       "    </tr>\n",
       "    <tr>\n",
       "      <th>22</th>\n",
       "      <td>21</td>\n",
       "      <td>13</td>\n",
       "      <td>21____</td>\n",
       "      <td>[, , , , , , , , , ]</td>\n",
       "      <td>[, , ]</td>\n",
       "    </tr>\n",
       "    <tr>\n",
       "      <th>23</th>\n",
       "      <td>22</td>\n",
       "      <td>13</td>\n",
       "      <td>22____</td>\n",
       "      <td>[, , , , , , , , , ]</td>\n",
       "      <td>[, , ]</td>\n",
       "    </tr>\n",
       "    <tr>\n",
       "      <th>24</th>\n",
       "      <td>23</td>\n",
       "      <td>13</td>\n",
       "      <td>23____</td>\n",
       "      <td>[, , , , , , , , , ]</td>\n",
       "      <td>[, , ]</td>\n",
       "    </tr>\n",
       "    <tr>\n",
       "      <th>25</th>\n",
       "      <td>24</td>\n",
       "      <td>13</td>\n",
       "      <td>24____</td>\n",
       "      <td>[, , , , , , , , , ]</td>\n",
       "      <td>[, , ]</td>\n",
       "    </tr>\n",
       "    <tr>\n",
       "      <th>26</th>\n",
       "      <td>25</td>\n",
       "      <td>13</td>\n",
       "      <td>25____</td>\n",
       "      <td>[, , , , , , , , , ]</td>\n",
       "      <td>[, , ]</td>\n",
       "    </tr>\n",
       "    <tr>\n",
       "      <th>27</th>\n",
       "      <td>26</td>\n",
       "      <td>13</td>\n",
       "      <td>26____</td>\n",
       "      <td>[, , , , , , , , , ]</td>\n",
       "      <td>[, , ]</td>\n",
       "    </tr>\n",
       "    <tr>\n",
       "      <th>28</th>\n",
       "      <td>27</td>\n",
       "      <td>12</td>\n",
       "      <td>27____</td>\n",
       "      <td>[, , , , , , , , , ]</td>\n",
       "      <td>[, , ]</td>\n",
       "    </tr>\n",
       "    <tr>\n",
       "      <th>29</th>\n",
       "      <td>28</td>\n",
       "      <td>12</td>\n",
       "      <td>28____</td>\n",
       "      <td>[, , , , , , , , , ]</td>\n",
       "      <td>[, , ]</td>\n",
       "    </tr>\n",
       "    <tr>\n",
       "      <th>30</th>\n",
       "      <td>29</td>\n",
       "      <td>12</td>\n",
       "      <td>29____</td>\n",
       "      <td>[, , , , , , , , , ]</td>\n",
       "      <td>[, , ]</td>\n",
       "    </tr>\n",
       "    <tr>\n",
       "      <th>31</th>\n",
       "      <td>30</td>\n",
       "      <td>12</td>\n",
       "      <td>30____</td>\n",
       "      <td>[, , , , , , , , , ]</td>\n",
       "      <td>[, , ]</td>\n",
       "    </tr>\n",
       "    <tr>\n",
       "      <th>32</th>\n",
       "      <td>31</td>\n",
       "      <td>12</td>\n",
       "      <td>31____</td>\n",
       "      <td>[, , , , , , , , , ]</td>\n",
       "      <td>[, , ]</td>\n",
       "    </tr>\n",
       "    <tr>\n",
       "      <th>33</th>\n",
       "      <td>32</td>\n",
       "      <td>12</td>\n",
       "      <td>32____</td>\n",
       "      <td>[, , , , , , , , , ]</td>\n",
       "      <td>[, , ]</td>\n",
       "    </tr>\n",
       "    <tr>\n",
       "      <th>34</th>\n",
       "      <td>33</td>\n",
       "      <td>11</td>\n",
       "      <td>33_xmas_election_cut_</td>\n",
       "      <td>[xmas, election, cut, , , , , , , ]</td>\n",
       "      <td>[, cut xmas election, ]</td>\n",
       "    </tr>\n",
       "  </tbody>\n",
       "</table>\n",
       "</div>"
      ],
      "text/plain": [
       "    Topic  Count                              Name  \\\n",
       "0      -1    206              -1_gtgt_looms_cliff_   \n",
       "1       0   5586      0_food_benefits_month_income   \n",
       "2       1     59   1_california_diego_county_texas   \n",
       "3       2     36                             2____   \n",
       "4       3     30           3_title_end_suppose_say   \n",
       "5       4     25  4_ckwe_recommendation_joined_too   \n",
       "6       5     21                             5____   \n",
       "7       6     18                             6____   \n",
       "8       7     15                             7____   \n",
       "9       8     15                             8____   \n",
       "10      9     15        9_motivate_uharas_helping_   \n",
       "11     10     15                            10____   \n",
       "12     11     15                            11____   \n",
       "13     12     14                            12____   \n",
       "14     13     14                            13____   \n",
       "15     14     14                            14____   \n",
       "16     15     14                            15____   \n",
       "17     16     14                            16____   \n",
       "18     17     14                            17____   \n",
       "19     18     14                            18____   \n",
       "20     19     14                            19____   \n",
       "21     20     13                            20____   \n",
       "22     21     13                            21____   \n",
       "23     22     13                            22____   \n",
       "24     23     13                            23____   \n",
       "25     24     13                            24____   \n",
       "26     25     13                            25____   \n",
       "27     26     13                            26____   \n",
       "28     27     12                            27____   \n",
       "29     28     12                            28____   \n",
       "30     29     12                            29____   \n",
       "31     30     12                            30____   \n",
       "32     31     12                            31____   \n",
       "33     32     12                            32____   \n",
       "34     33     11             33_xmas_election_cut_   \n",
       "\n",
       "                                       Representation  \\\n",
       "0                  [gtgt, looms, cliff, , , , , , , ]   \n",
       "1   [food, benefits, month, income, card, know, st...   \n",
       "2   [california, diego, county, texas, state, utah...   \n",
       "3                                [, , , , , , , , , ]   \n",
       "4   [title, end, suppose, say, anyone, lkjghfdsret...   \n",
       "5   [ckwe, recommendation, joined, too, subreddit,...   \n",
       "6                                [, , , , , , , , , ]   \n",
       "7                                [, , , , , , , , , ]   \n",
       "8                                [, , , , , , , , , ]   \n",
       "9                                [, , , , , , , , , ]   \n",
       "10          [motivate, uharas, helping, , , , , , , ]   \n",
       "11                               [, , , , , , , , , ]   \n",
       "12                               [, , , , , , , , , ]   \n",
       "13                               [, , , , , , , , , ]   \n",
       "14                               [, , , , , , , , , ]   \n",
       "15                               [, , , , , , , , , ]   \n",
       "16                               [, , , , , , , , , ]   \n",
       "17                               [, , , , , , , , , ]   \n",
       "18                               [, , , , , , , , , ]   \n",
       "19                               [, , , , , , , , , ]   \n",
       "20                               [, , , , , , , , , ]   \n",
       "21                               [, , , , , , , , , ]   \n",
       "22                               [, , , , , , , , , ]   \n",
       "23                               [, , , , , , , , , ]   \n",
       "24                               [, , , , , , , , , ]   \n",
       "25                               [, , , , , , , , , ]   \n",
       "26                               [, , , , , , , , , ]   \n",
       "27                               [, , , , , , , , , ]   \n",
       "28                               [, , , , , , , , , ]   \n",
       "29                               [, , , , , , , , , ]   \n",
       "30                               [, , , , , , , , , ]   \n",
       "31                               [, , , , , , , , , ]   \n",
       "32                               [, , , , , , , , , ]   \n",
       "33                               [, , , , , , , , , ]   \n",
       "34                [xmas, election, cut, , , , , , , ]   \n",
       "\n",
       "                                  Representative_Docs  \n",
       "0                                [, [cliff looms](, ]  \n",
       "1   [female diagnosed generalized anxiety disorder...  \n",
       "2   [california diego county), state california, a...  \n",
       "3                                              [, , ]  \n",
       "4            [question title, title says, title says]  \n",
       "5   [, , (i joined seeing recommendation old post ...  \n",
       "6                                              [, , ]  \n",
       "7                                              [, , ]  \n",
       "8                                              [, , ]  \n",
       "9                                              [, , ]  \n",
       "10                    [, , /u/haras helping motivate]  \n",
       "11                                             [, , ]  \n",
       "12                                             [, , ]  \n",
       "13                                             [, , ]  \n",
       "14                                             [, , ]  \n",
       "15                                             [, , ]  \n",
       "16                                             [, , ]  \n",
       "17                                             [, , ]  \n",
       "18                                             [, , ]  \n",
       "19                                             [, , ]  \n",
       "20                                             [, , ]  \n",
       "21                                             [, , ]  \n",
       "22                                             [, , ]  \n",
       "23                                             [, , ]  \n",
       "24                                             [, , ]  \n",
       "25                                             [, , ]  \n",
       "26                                             [, , ]  \n",
       "27                                             [, , ]  \n",
       "28                                             [, , ]  \n",
       "29                                             [, , ]  \n",
       "30                                             [, , ]  \n",
       "31                                             [, , ]  \n",
       "32                                             [, , ]  \n",
       "33                                             [, , ]  \n",
       "34                            [, cut xmas election, ]  "
      ]
     },
     "execution_count": 65,
     "metadata": {},
     "output_type": "execute_result"
    }
   ],
   "source": [
    "# Get an overview of the topics\n",
    "topic_model.get_topic_info()\n",
    "\n",
    "# Retrieve individual topics\n",
    "#topic_model.get_topic(0)  # Replace 0 with the topic number you're interested in\n"
   ]
  },
  {
   "cell_type": "code",
   "execution_count": 66,
   "metadata": {},
   "outputs": [
    {
     "data": {
      "text/plain": [
       "[('title', 0.22474088887009774),\n",
       " ('end', 0.10932443484529589),\n",
       " ('suppose', 0.0983784975823064),\n",
       " ('say', 0.09318598630321255),\n",
       " ('anyone', 0.09126005091979082),\n",
       " ('lkjghfdsretrytukrltioyulk', 0.0865092306448219),\n",
       " ('ghfkuihlkjkl', 0.0865092306448219),\n",
       " ('rexdtrfuygihojpojihugygtfchjukijlop', 0.0865092306448219),\n",
       " ('chillin', 0.0865092306448219),\n",
       " ('anybody', 0.08118035233392178)]"
      ]
     },
     "execution_count": 66,
     "metadata": {},
     "output_type": "execute_result"
    }
   ],
   "source": [
    "topic_model.get_topic(3)"
   ]
  },
  {
   "cell_type": "code",
   "execution_count": 62,
   "metadata": {},
   "outputs": [
    {
     "data": {
      "application/vnd.plotly.v1+json": {
       "config": {
        "plotlyServerURL": "https://plot.ly"
       },
       "data": [
        {
         "customdata": [
          [
           0,
           "food | benefits | month | income | card",
           5587
          ],
          [
           1,
           "gtgt | looms | cliff |  | ",
           664
          ],
          [
           2,
           "california | county | state | diego | texas",
           60
          ],
          [
           3,
           "title | suppose | anyone | end | sure",
           31
          ]
         ],
         "hovertemplate": "<b>Topic %{customdata[0]}</b><br>%{customdata[1]}<br>Size: %{customdata[2]}",
         "legendgroup": "",
         "marker": {
          "color": "#B0BEC5",
          "line": {
           "color": "DarkSlateGrey",
           "width": 2
          },
          "size": [
           5587,
           664,
           60,
           31
          ],
          "sizemode": "area",
          "sizeref": 3.491875,
          "symbol": "circle"
         },
         "mode": "markers",
         "name": "",
         "orientation": "v",
         "showlegend": false,
         "type": "scatter",
         "x": [
          8.19244384765625,
          6.568553924560547,
          7.398938179016113,
          6.654013156890869
         ],
         "xaxis": "x",
         "y": [
          7.41091775894165,
          5.9305033683776855,
          7.378730773925781,
          6.712660312652588
         ],
         "yaxis": "y"
        }
       ],
       "layout": {
        "annotations": [
         {
          "showarrow": false,
          "text": "D1",
          "x": 5.583270835876465,
          "y": 6.781741642951965,
          "yshift": 10
         },
         {
          "showarrow": false,
          "text": "D2",
          "x": 7.5022906303405765,
          "xshift": 10,
          "y": 8.522555422782897
         }
        ],
        "height": 650,
        "hoverlabel": {
         "bgcolor": "white",
         "font": {
          "family": "Rockwell",
          "size": 16
         }
        },
        "legend": {
         "itemsizing": "constant",
         "tracegroupgap": 0
        },
        "margin": {
         "t": 60
        },
        "shapes": [
         {
          "line": {
           "color": "#CFD8DC",
           "width": 2
          },
          "type": "line",
          "x0": 7.5022906303405765,
          "x1": 7.5022906303405765,
          "y0": 5.040927863121032,
          "y1": 8.522555422782897
         },
         {
          "line": {
           "color": "#9E9E9E",
           "width": 2
          },
          "type": "line",
          "x0": 5.583270835876465,
          "x1": 9.421310424804688,
          "y0": 6.781741642951965,
          "y1": 6.781741642951965
         }
        ],
        "sliders": [
         {
          "active": 0,
          "pad": {
           "t": 50
          },
          "steps": [
           {
            "args": [
             {
              "marker.color": [
               [
                "red",
                "#B0BEC5",
                "#B0BEC5",
                "#B0BEC5"
               ]
              ]
             }
            ],
            "label": "Topic 0",
            "method": "update"
           },
           {
            "args": [
             {
              "marker.color": [
               [
                "#B0BEC5",
                "red",
                "#B0BEC5",
                "#B0BEC5"
               ]
              ]
             }
            ],
            "label": "Topic 1",
            "method": "update"
           },
           {
            "args": [
             {
              "marker.color": [
               [
                "#B0BEC5",
                "#B0BEC5",
                "red",
                "#B0BEC5"
               ]
              ]
             }
            ],
            "label": "Topic 2",
            "method": "update"
           },
           {
            "args": [
             {
              "marker.color": [
               [
                "#B0BEC5",
                "#B0BEC5",
                "#B0BEC5",
                "red"
               ]
              ]
             }
            ],
            "label": "Topic 3",
            "method": "update"
           }
          ]
         }
        ],
        "template": {
         "data": {
          "bar": [
           {
            "error_x": {
             "color": "rgb(36,36,36)"
            },
            "error_y": {
             "color": "rgb(36,36,36)"
            },
            "marker": {
             "line": {
              "color": "white",
              "width": 0.5
             },
             "pattern": {
              "fillmode": "overlay",
              "size": 10,
              "solidity": 0.2
             }
            },
            "type": "bar"
           }
          ],
          "barpolar": [
           {
            "marker": {
             "line": {
              "color": "white",
              "width": 0.5
             },
             "pattern": {
              "fillmode": "overlay",
              "size": 10,
              "solidity": 0.2
             }
            },
            "type": "barpolar"
           }
          ],
          "carpet": [
           {
            "aaxis": {
             "endlinecolor": "rgb(36,36,36)",
             "gridcolor": "white",
             "linecolor": "white",
             "minorgridcolor": "white",
             "startlinecolor": "rgb(36,36,36)"
            },
            "baxis": {
             "endlinecolor": "rgb(36,36,36)",
             "gridcolor": "white",
             "linecolor": "white",
             "minorgridcolor": "white",
             "startlinecolor": "rgb(36,36,36)"
            },
            "type": "carpet"
           }
          ],
          "choropleth": [
           {
            "colorbar": {
             "outlinewidth": 1,
             "tickcolor": "rgb(36,36,36)",
             "ticks": "outside"
            },
            "type": "choropleth"
           }
          ],
          "contour": [
           {
            "colorbar": {
             "outlinewidth": 1,
             "tickcolor": "rgb(36,36,36)",
             "ticks": "outside"
            },
            "colorscale": [
             [
              0,
              "#440154"
             ],
             [
              0.1111111111111111,
              "#482878"
             ],
             [
              0.2222222222222222,
              "#3e4989"
             ],
             [
              0.3333333333333333,
              "#31688e"
             ],
             [
              0.4444444444444444,
              "#26828e"
             ],
             [
              0.5555555555555556,
              "#1f9e89"
             ],
             [
              0.6666666666666666,
              "#35b779"
             ],
             [
              0.7777777777777778,
              "#6ece58"
             ],
             [
              0.8888888888888888,
              "#b5de2b"
             ],
             [
              1,
              "#fde725"
             ]
            ],
            "type": "contour"
           }
          ],
          "contourcarpet": [
           {
            "colorbar": {
             "outlinewidth": 1,
             "tickcolor": "rgb(36,36,36)",
             "ticks": "outside"
            },
            "type": "contourcarpet"
           }
          ],
          "heatmap": [
           {
            "colorbar": {
             "outlinewidth": 1,
             "tickcolor": "rgb(36,36,36)",
             "ticks": "outside"
            },
            "colorscale": [
             [
              0,
              "#440154"
             ],
             [
              0.1111111111111111,
              "#482878"
             ],
             [
              0.2222222222222222,
              "#3e4989"
             ],
             [
              0.3333333333333333,
              "#31688e"
             ],
             [
              0.4444444444444444,
              "#26828e"
             ],
             [
              0.5555555555555556,
              "#1f9e89"
             ],
             [
              0.6666666666666666,
              "#35b779"
             ],
             [
              0.7777777777777778,
              "#6ece58"
             ],
             [
              0.8888888888888888,
              "#b5de2b"
             ],
             [
              1,
              "#fde725"
             ]
            ],
            "type": "heatmap"
           }
          ],
          "heatmapgl": [
           {
            "colorbar": {
             "outlinewidth": 1,
             "tickcolor": "rgb(36,36,36)",
             "ticks": "outside"
            },
            "colorscale": [
             [
              0,
              "#440154"
             ],
             [
              0.1111111111111111,
              "#482878"
             ],
             [
              0.2222222222222222,
              "#3e4989"
             ],
             [
              0.3333333333333333,
              "#31688e"
             ],
             [
              0.4444444444444444,
              "#26828e"
             ],
             [
              0.5555555555555556,
              "#1f9e89"
             ],
             [
              0.6666666666666666,
              "#35b779"
             ],
             [
              0.7777777777777778,
              "#6ece58"
             ],
             [
              0.8888888888888888,
              "#b5de2b"
             ],
             [
              1,
              "#fde725"
             ]
            ],
            "type": "heatmapgl"
           }
          ],
          "histogram": [
           {
            "marker": {
             "line": {
              "color": "white",
              "width": 0.6
             }
            },
            "type": "histogram"
           }
          ],
          "histogram2d": [
           {
            "colorbar": {
             "outlinewidth": 1,
             "tickcolor": "rgb(36,36,36)",
             "ticks": "outside"
            },
            "colorscale": [
             [
              0,
              "#440154"
             ],
             [
              0.1111111111111111,
              "#482878"
             ],
             [
              0.2222222222222222,
              "#3e4989"
             ],
             [
              0.3333333333333333,
              "#31688e"
             ],
             [
              0.4444444444444444,
              "#26828e"
             ],
             [
              0.5555555555555556,
              "#1f9e89"
             ],
             [
              0.6666666666666666,
              "#35b779"
             ],
             [
              0.7777777777777778,
              "#6ece58"
             ],
             [
              0.8888888888888888,
              "#b5de2b"
             ],
             [
              1,
              "#fde725"
             ]
            ],
            "type": "histogram2d"
           }
          ],
          "histogram2dcontour": [
           {
            "colorbar": {
             "outlinewidth": 1,
             "tickcolor": "rgb(36,36,36)",
             "ticks": "outside"
            },
            "colorscale": [
             [
              0,
              "#440154"
             ],
             [
              0.1111111111111111,
              "#482878"
             ],
             [
              0.2222222222222222,
              "#3e4989"
             ],
             [
              0.3333333333333333,
              "#31688e"
             ],
             [
              0.4444444444444444,
              "#26828e"
             ],
             [
              0.5555555555555556,
              "#1f9e89"
             ],
             [
              0.6666666666666666,
              "#35b779"
             ],
             [
              0.7777777777777778,
              "#6ece58"
             ],
             [
              0.8888888888888888,
              "#b5de2b"
             ],
             [
              1,
              "#fde725"
             ]
            ],
            "type": "histogram2dcontour"
           }
          ],
          "mesh3d": [
           {
            "colorbar": {
             "outlinewidth": 1,
             "tickcolor": "rgb(36,36,36)",
             "ticks": "outside"
            },
            "type": "mesh3d"
           }
          ],
          "parcoords": [
           {
            "line": {
             "colorbar": {
              "outlinewidth": 1,
              "tickcolor": "rgb(36,36,36)",
              "ticks": "outside"
             }
            },
            "type": "parcoords"
           }
          ],
          "pie": [
           {
            "automargin": true,
            "type": "pie"
           }
          ],
          "scatter": [
           {
            "fillpattern": {
             "fillmode": "overlay",
             "size": 10,
             "solidity": 0.2
            },
            "type": "scatter"
           }
          ],
          "scatter3d": [
           {
            "line": {
             "colorbar": {
              "outlinewidth": 1,
              "tickcolor": "rgb(36,36,36)",
              "ticks": "outside"
             }
            },
            "marker": {
             "colorbar": {
              "outlinewidth": 1,
              "tickcolor": "rgb(36,36,36)",
              "ticks": "outside"
             }
            },
            "type": "scatter3d"
           }
          ],
          "scattercarpet": [
           {
            "marker": {
             "colorbar": {
              "outlinewidth": 1,
              "tickcolor": "rgb(36,36,36)",
              "ticks": "outside"
             }
            },
            "type": "scattercarpet"
           }
          ],
          "scattergeo": [
           {
            "marker": {
             "colorbar": {
              "outlinewidth": 1,
              "tickcolor": "rgb(36,36,36)",
              "ticks": "outside"
             }
            },
            "type": "scattergeo"
           }
          ],
          "scattergl": [
           {
            "marker": {
             "colorbar": {
              "outlinewidth": 1,
              "tickcolor": "rgb(36,36,36)",
              "ticks": "outside"
             }
            },
            "type": "scattergl"
           }
          ],
          "scattermapbox": [
           {
            "marker": {
             "colorbar": {
              "outlinewidth": 1,
              "tickcolor": "rgb(36,36,36)",
              "ticks": "outside"
             }
            },
            "type": "scattermapbox"
           }
          ],
          "scatterpolar": [
           {
            "marker": {
             "colorbar": {
              "outlinewidth": 1,
              "tickcolor": "rgb(36,36,36)",
              "ticks": "outside"
             }
            },
            "type": "scatterpolar"
           }
          ],
          "scatterpolargl": [
           {
            "marker": {
             "colorbar": {
              "outlinewidth": 1,
              "tickcolor": "rgb(36,36,36)",
              "ticks": "outside"
             }
            },
            "type": "scatterpolargl"
           }
          ],
          "scatterternary": [
           {
            "marker": {
             "colorbar": {
              "outlinewidth": 1,
              "tickcolor": "rgb(36,36,36)",
              "ticks": "outside"
             }
            },
            "type": "scatterternary"
           }
          ],
          "surface": [
           {
            "colorbar": {
             "outlinewidth": 1,
             "tickcolor": "rgb(36,36,36)",
             "ticks": "outside"
            },
            "colorscale": [
             [
              0,
              "#440154"
             ],
             [
              0.1111111111111111,
              "#482878"
             ],
             [
              0.2222222222222222,
              "#3e4989"
             ],
             [
              0.3333333333333333,
              "#31688e"
             ],
             [
              0.4444444444444444,
              "#26828e"
             ],
             [
              0.5555555555555556,
              "#1f9e89"
             ],
             [
              0.6666666666666666,
              "#35b779"
             ],
             [
              0.7777777777777778,
              "#6ece58"
             ],
             [
              0.8888888888888888,
              "#b5de2b"
             ],
             [
              1,
              "#fde725"
             ]
            ],
            "type": "surface"
           }
          ],
          "table": [
           {
            "cells": {
             "fill": {
              "color": "rgb(237,237,237)"
             },
             "line": {
              "color": "white"
             }
            },
            "header": {
             "fill": {
              "color": "rgb(217,217,217)"
             },
             "line": {
              "color": "white"
             }
            },
            "type": "table"
           }
          ]
         },
         "layout": {
          "annotationdefaults": {
           "arrowhead": 0,
           "arrowwidth": 1
          },
          "autotypenumbers": "strict",
          "coloraxis": {
           "colorbar": {
            "outlinewidth": 1,
            "tickcolor": "rgb(36,36,36)",
            "ticks": "outside"
           }
          },
          "colorscale": {
           "diverging": [
            [
             0,
             "rgb(103,0,31)"
            ],
            [
             0.1,
             "rgb(178,24,43)"
            ],
            [
             0.2,
             "rgb(214,96,77)"
            ],
            [
             0.3,
             "rgb(244,165,130)"
            ],
            [
             0.4,
             "rgb(253,219,199)"
            ],
            [
             0.5,
             "rgb(247,247,247)"
            ],
            [
             0.6,
             "rgb(209,229,240)"
            ],
            [
             0.7,
             "rgb(146,197,222)"
            ],
            [
             0.8,
             "rgb(67,147,195)"
            ],
            [
             0.9,
             "rgb(33,102,172)"
            ],
            [
             1,
             "rgb(5,48,97)"
            ]
           ],
           "sequential": [
            [
             0,
             "#440154"
            ],
            [
             0.1111111111111111,
             "#482878"
            ],
            [
             0.2222222222222222,
             "#3e4989"
            ],
            [
             0.3333333333333333,
             "#31688e"
            ],
            [
             0.4444444444444444,
             "#26828e"
            ],
            [
             0.5555555555555556,
             "#1f9e89"
            ],
            [
             0.6666666666666666,
             "#35b779"
            ],
            [
             0.7777777777777778,
             "#6ece58"
            ],
            [
             0.8888888888888888,
             "#b5de2b"
            ],
            [
             1,
             "#fde725"
            ]
           ],
           "sequentialminus": [
            [
             0,
             "#440154"
            ],
            [
             0.1111111111111111,
             "#482878"
            ],
            [
             0.2222222222222222,
             "#3e4989"
            ],
            [
             0.3333333333333333,
             "#31688e"
            ],
            [
             0.4444444444444444,
             "#26828e"
            ],
            [
             0.5555555555555556,
             "#1f9e89"
            ],
            [
             0.6666666666666666,
             "#35b779"
            ],
            [
             0.7777777777777778,
             "#6ece58"
            ],
            [
             0.8888888888888888,
             "#b5de2b"
            ],
            [
             1,
             "#fde725"
            ]
           ]
          },
          "colorway": [
           "#1F77B4",
           "#FF7F0E",
           "#2CA02C",
           "#D62728",
           "#9467BD",
           "#8C564B",
           "#E377C2",
           "#7F7F7F",
           "#BCBD22",
           "#17BECF"
          ],
          "font": {
           "color": "rgb(36,36,36)"
          },
          "geo": {
           "bgcolor": "white",
           "lakecolor": "white",
           "landcolor": "white",
           "showlakes": true,
           "showland": true,
           "subunitcolor": "white"
          },
          "hoverlabel": {
           "align": "left"
          },
          "hovermode": "closest",
          "mapbox": {
           "style": "light"
          },
          "paper_bgcolor": "white",
          "plot_bgcolor": "white",
          "polar": {
           "angularaxis": {
            "gridcolor": "rgb(232,232,232)",
            "linecolor": "rgb(36,36,36)",
            "showgrid": false,
            "showline": true,
            "ticks": "outside"
           },
           "bgcolor": "white",
           "radialaxis": {
            "gridcolor": "rgb(232,232,232)",
            "linecolor": "rgb(36,36,36)",
            "showgrid": false,
            "showline": true,
            "ticks": "outside"
           }
          },
          "scene": {
           "xaxis": {
            "backgroundcolor": "white",
            "gridcolor": "rgb(232,232,232)",
            "gridwidth": 2,
            "linecolor": "rgb(36,36,36)",
            "showbackground": true,
            "showgrid": false,
            "showline": true,
            "ticks": "outside",
            "zeroline": false,
            "zerolinecolor": "rgb(36,36,36)"
           },
           "yaxis": {
            "backgroundcolor": "white",
            "gridcolor": "rgb(232,232,232)",
            "gridwidth": 2,
            "linecolor": "rgb(36,36,36)",
            "showbackground": true,
            "showgrid": false,
            "showline": true,
            "ticks": "outside",
            "zeroline": false,
            "zerolinecolor": "rgb(36,36,36)"
           },
           "zaxis": {
            "backgroundcolor": "white",
            "gridcolor": "rgb(232,232,232)",
            "gridwidth": 2,
            "linecolor": "rgb(36,36,36)",
            "showbackground": true,
            "showgrid": false,
            "showline": true,
            "ticks": "outside",
            "zeroline": false,
            "zerolinecolor": "rgb(36,36,36)"
           }
          },
          "shapedefaults": {
           "fillcolor": "black",
           "line": {
            "width": 0
           },
           "opacity": 0.3
          },
          "ternary": {
           "aaxis": {
            "gridcolor": "rgb(232,232,232)",
            "linecolor": "rgb(36,36,36)",
            "showgrid": false,
            "showline": true,
            "ticks": "outside"
           },
           "baxis": {
            "gridcolor": "rgb(232,232,232)",
            "linecolor": "rgb(36,36,36)",
            "showgrid": false,
            "showline": true,
            "ticks": "outside"
           },
           "bgcolor": "white",
           "caxis": {
            "gridcolor": "rgb(232,232,232)",
            "linecolor": "rgb(36,36,36)",
            "showgrid": false,
            "showline": true,
            "ticks": "outside"
           }
          },
          "title": {
           "x": 0.05
          },
          "xaxis": {
           "automargin": true,
           "gridcolor": "rgb(232,232,232)",
           "linecolor": "rgb(36,36,36)",
           "showgrid": false,
           "showline": true,
           "ticks": "outside",
           "title": {
            "standoff": 15
           },
           "zeroline": false,
           "zerolinecolor": "rgb(36,36,36)"
          },
          "yaxis": {
           "automargin": true,
           "gridcolor": "rgb(232,232,232)",
           "linecolor": "rgb(36,36,36)",
           "showgrid": false,
           "showline": true,
           "ticks": "outside",
           "title": {
            "standoff": 15
           },
           "zeroline": false,
           "zerolinecolor": "rgb(36,36,36)"
          }
         }
        },
        "title": {
         "font": {
          "color": "Black",
          "size": 22
         },
         "text": "<b>Intertopic Distance Map</b>",
         "x": 0.5,
         "xanchor": "center",
         "y": 0.95,
         "yanchor": "top"
        },
        "width": 650,
        "xaxis": {
         "anchor": "y",
         "domain": [
          0,
          1
         ],
         "range": [
          5.583270835876465,
          9.421310424804688
         ],
         "title": {
          "text": ""
         },
         "visible": false
        },
        "yaxis": {
         "anchor": "x",
         "domain": [
          0,
          1
         ],
         "range": [
          5.040927863121032,
          8.522555422782897
         ],
         "title": {
          "text": ""
         },
         "visible": false
        }
       }
      }
     },
     "metadata": {},
     "output_type": "display_data"
    }
   ],
   "source": [
    "# Visualize topics\n",
    "topic_model.visualize_topics()\n"
   ]
  },
  {
   "cell_type": "code",
   "execution_count": 63,
   "metadata": {},
   "outputs": [
    {
     "data": {
      "text/html": [
       "<div>\n",
       "<style scoped>\n",
       "    .dataframe tbody tr th:only-of-type {\n",
       "        vertical-align: middle;\n",
       "    }\n",
       "\n",
       "    .dataframe tbody tr th {\n",
       "        vertical-align: top;\n",
       "    }\n",
       "\n",
       "    .dataframe thead th {\n",
       "        text-align: right;\n",
       "    }\n",
       "</style>\n",
       "<table border=\"1\" class=\"dataframe\">\n",
       "  <thead>\n",
       "    <tr style=\"text-align: right;\">\n",
       "      <th></th>\n",
       "      <th>Document</th>\n",
       "      <th>Topic</th>\n",
       "      <th>Name</th>\n",
       "      <th>Representation</th>\n",
       "      <th>Representative_Docs</th>\n",
       "      <th>Top_n_words</th>\n",
       "      <th>Probability</th>\n",
       "      <th>Representative_document</th>\n",
       "    </tr>\n",
       "  </thead>\n",
       "  <tbody>\n",
       "    <tr>\n",
       "      <th>0</th>\n",
       "      <td>hi im wondering can you be married and still g...</td>\n",
       "      <td>0</td>\n",
       "      <td>0_food_benefits_month_income</td>\n",
       "      <td>[food, benefits, month, income, card, know, st...</td>\n",
       "      <td>[applied call next day hhs saying bills income...</td>\n",
       "      <td>food - benefits - month - income - card - know...</td>\n",
       "      <td>1.000000</td>\n",
       "      <td>False</td>\n",
       "    </tr>\n",
       "    <tr>\n",
       "      <th>1</th>\n",
       "      <td>not sure if this is only pa but i'm sure it co...</td>\n",
       "      <td>0</td>\n",
       "      <td>0_food_benefits_month_income</td>\n",
       "      <td>[food, benefits, month, income, card, know, st...</td>\n",
       "      <td>[applied call next day hhs saying bills income...</td>\n",
       "      <td>food - benefits - month - income - card - know...</td>\n",
       "      <td>1.000000</td>\n",
       "      <td>False</td>\n",
       "    </tr>\n",
       "    <tr>\n",
       "      <th>2</th>\n",
       "      <td>today i was informed by my social worker that ...</td>\n",
       "      <td>0</td>\n",
       "      <td>0_food_benefits_month_income</td>\n",
       "      <td>[food, benefits, month, income, card, know, st...</td>\n",
       "      <td>[applied call next day hhs saying bills income...</td>\n",
       "      <td>food - benefits - month - income - card - know...</td>\n",
       "      <td>1.000000</td>\n",
       "      <td>False</td>\n",
       "    </tr>\n",
       "    <tr>\n",
       "      <th>3</th>\n",
       "      <td>(i'm in alabama)\\n\\nso i filled out the online...</td>\n",
       "      <td>0</td>\n",
       "      <td>0_food_benefits_month_income</td>\n",
       "      <td>[food, benefits, month, income, card, know, st...</td>\n",
       "      <td>[applied call next day hhs saying bills income...</td>\n",
       "      <td>food - benefits - month - income - card - know...</td>\n",
       "      <td>1.000000</td>\n",
       "      <td>False</td>\n",
       "    </tr>\n",
       "    <tr>\n",
       "      <th>4</th>\n",
       "      <td>hello\\n\\ni am in new york\\n\\ni applied on apri...</td>\n",
       "      <td>0</td>\n",
       "      <td>0_food_benefits_month_income</td>\n",
       "      <td>[food, benefits, month, income, card, know, st...</td>\n",
       "      <td>[applied call next day hhs saying bills income...</td>\n",
       "      <td>food - benefits - month - income - card - know...</td>\n",
       "      <td>1.000000</td>\n",
       "      <td>False</td>\n",
       "    </tr>\n",
       "    <tr>\n",
       "      <th>...</th>\n",
       "      <td>...</td>\n",
       "      <td>...</td>\n",
       "      <td>...</td>\n",
       "      <td>...</td>\n",
       "      <td>...</td>\n",
       "      <td>...</td>\n",
       "      <td>...</td>\n",
       "      <td>...</td>\n",
       "    </tr>\n",
       "    <tr>\n",
       "      <th>6337</th>\n",
       "      <td>i recently got approved for early learning coa...</td>\n",
       "      <td>0</td>\n",
       "      <td>0_food_benefits_month_income</td>\n",
       "      <td>[food, benefits, month, income, card, know, st...</td>\n",
       "      <td>[applied call next day hhs saying bills income...</td>\n",
       "      <td>food - benefits - month - income - card - know...</td>\n",
       "      <td>1.000000</td>\n",
       "      <td>False</td>\n",
       "    </tr>\n",
       "    <tr>\n",
       "      <th>6338</th>\n",
       "      <td>hello\\n\\ni really hate to bother asking here b...</td>\n",
       "      <td>0</td>\n",
       "      <td>0_food_benefits_month_income</td>\n",
       "      <td>[food, benefits, month, income, card, know, st...</td>\n",
       "      <td>[applied call next day hhs saying bills income...</td>\n",
       "      <td>food - benefits - month - income - card - know...</td>\n",
       "      <td>1.000000</td>\n",
       "      <td>False</td>\n",
       "    </tr>\n",
       "    <tr>\n",
       "      <th>6339</th>\n",
       "      <td>a friend of mine receives ssi payments for her...</td>\n",
       "      <td>0</td>\n",
       "      <td>0_food_benefits_month_income</td>\n",
       "      <td>[food, benefits, month, income, card, know, st...</td>\n",
       "      <td>[applied call next day hhs saying bills income...</td>\n",
       "      <td>food - benefits - month - income - card - know...</td>\n",
       "      <td>1.000000</td>\n",
       "      <td>False</td>\n",
       "    </tr>\n",
       "    <tr>\n",
       "      <th>6340</th>\n",
       "      <td>i looked outside my door and there was a card ...</td>\n",
       "      <td>0</td>\n",
       "      <td>0_food_benefits_month_income</td>\n",
       "      <td>[food, benefits, month, income, card, know, st...</td>\n",
       "      <td>[applied call next day hhs saying bills income...</td>\n",
       "      <td>food - benefits - month - income - card - know...</td>\n",
       "      <td>0.986374</td>\n",
       "      <td>False</td>\n",
       "    </tr>\n",
       "    <tr>\n",
       "      <th>6341</th>\n",
       "      <td>i don't know how to ask this question so i'm h...</td>\n",
       "      <td>0</td>\n",
       "      <td>0_food_benefits_month_income</td>\n",
       "      <td>[food, benefits, month, income, card, know, st...</td>\n",
       "      <td>[applied call next day hhs saying bills income...</td>\n",
       "      <td>food - benefits - month - income - card - know...</td>\n",
       "      <td>1.000000</td>\n",
       "      <td>False</td>\n",
       "    </tr>\n",
       "  </tbody>\n",
       "</table>\n",
       "<p>6342 rows × 8 columns</p>\n",
       "</div>"
      ],
      "text/plain": [
       "                                               Document  Topic  \\\n",
       "0     hi im wondering can you be married and still g...      0   \n",
       "1     not sure if this is only pa but i'm sure it co...      0   \n",
       "2     today i was informed by my social worker that ...      0   \n",
       "3     (i'm in alabama)\\n\\nso i filled out the online...      0   \n",
       "4     hello\\n\\ni am in new york\\n\\ni applied on apri...      0   \n",
       "...                                                 ...    ...   \n",
       "6337  i recently got approved for early learning coa...      0   \n",
       "6338  hello\\n\\ni really hate to bother asking here b...      0   \n",
       "6339  a friend of mine receives ssi payments for her...      0   \n",
       "6340  i looked outside my door and there was a card ...      0   \n",
       "6341  i don't know how to ask this question so i'm h...      0   \n",
       "\n",
       "                              Name  \\\n",
       "0     0_food_benefits_month_income   \n",
       "1     0_food_benefits_month_income   \n",
       "2     0_food_benefits_month_income   \n",
       "3     0_food_benefits_month_income   \n",
       "4     0_food_benefits_month_income   \n",
       "...                            ...   \n",
       "6337  0_food_benefits_month_income   \n",
       "6338  0_food_benefits_month_income   \n",
       "6339  0_food_benefits_month_income   \n",
       "6340  0_food_benefits_month_income   \n",
       "6341  0_food_benefits_month_income   \n",
       "\n",
       "                                         Representation  \\\n",
       "0     [food, benefits, month, income, card, know, st...   \n",
       "1     [food, benefits, month, income, card, know, st...   \n",
       "2     [food, benefits, month, income, card, know, st...   \n",
       "3     [food, benefits, month, income, card, know, st...   \n",
       "4     [food, benefits, month, income, card, know, st...   \n",
       "...                                                 ...   \n",
       "6337  [food, benefits, month, income, card, know, st...   \n",
       "6338  [food, benefits, month, income, card, know, st...   \n",
       "6339  [food, benefits, month, income, card, know, st...   \n",
       "6340  [food, benefits, month, income, card, know, st...   \n",
       "6341  [food, benefits, month, income, card, know, st...   \n",
       "\n",
       "                                    Representative_Docs  \\\n",
       "0     [applied call next day hhs saying bills income...   \n",
       "1     [applied call next day hhs saying bills income...   \n",
       "2     [applied call next day hhs saying bills income...   \n",
       "3     [applied call next day hhs saying bills income...   \n",
       "4     [applied call next day hhs saying bills income...   \n",
       "...                                                 ...   \n",
       "6337  [applied call next day hhs saying bills income...   \n",
       "6338  [applied call next day hhs saying bills income...   \n",
       "6339  [applied call next day hhs saying bills income...   \n",
       "6340  [applied call next day hhs saying bills income...   \n",
       "6341  [applied call next day hhs saying bills income...   \n",
       "\n",
       "                                            Top_n_words  Probability  \\\n",
       "0     food - benefits - month - income - card - know...     1.000000   \n",
       "1     food - benefits - month - income - card - know...     1.000000   \n",
       "2     food - benefits - month - income - card - know...     1.000000   \n",
       "3     food - benefits - month - income - card - know...     1.000000   \n",
       "4     food - benefits - month - income - card - know...     1.000000   \n",
       "...                                                 ...          ...   \n",
       "6337  food - benefits - month - income - card - know...     1.000000   \n",
       "6338  food - benefits - month - income - card - know...     1.000000   \n",
       "6339  food - benefits - month - income - card - know...     1.000000   \n",
       "6340  food - benefits - month - income - card - know...     0.986374   \n",
       "6341  food - benefits - month - income - card - know...     1.000000   \n",
       "\n",
       "      Representative_document  \n",
       "0                       False  \n",
       "1                       False  \n",
       "2                       False  \n",
       "3                       False  \n",
       "4                       False  \n",
       "...                       ...  \n",
       "6337                    False  \n",
       "6338                    False  \n",
       "6339                    False  \n",
       "6340                    False  \n",
       "6341                    False  \n",
       "\n",
       "[6342 rows x 8 columns]"
      ]
     },
     "execution_count": 63,
     "metadata": {},
     "output_type": "execute_result"
    }
   ],
   "source": [
    "topic_model.get_document_info(docs)"
   ]
  },
  {
   "cell_type": "code",
   "execution_count": null,
   "metadata": {},
   "outputs": [],
   "source": []
  }
 ],
 "metadata": {
  "kernelspec": {
   "display_name": "Python 3.10.9 ('base')",
   "language": "python",
   "name": "python3"
  },
  "language_info": {
   "codemirror_mode": {
    "name": "ipython",
    "version": 3
   },
   "file_extension": ".py",
   "mimetype": "text/x-python",
   "name": "python",
   "nbconvert_exporter": "python",
   "pygments_lexer": "ipython3",
   "version": "3.10.9"
  },
  "orig_nbformat": 4,
  "vscode": {
   "interpreter": {
    "hash": "1eb14c017a40174f1cd2873120226af2c3765f9e1b4e1a76ddbb97d090fc061c"
   }
  }
 },
 "nbformat": 4,
 "nbformat_minor": 2
}
