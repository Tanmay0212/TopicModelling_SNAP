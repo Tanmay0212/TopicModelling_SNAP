{
 "cells": [
  {
   "cell_type": "code",
   "execution_count": 35,
   "metadata": {},
   "outputs": [],
   "source": [
    "import pandas as pd"
   ]
  },
  {
   "cell_type": "code",
   "execution_count": 44,
   "metadata": {},
   "outputs": [],
   "source": [
    "sub_data = pd.read_csv(\"foodstamp_submissions_allyears.csv\")\n",
    "com_data = pd.read_csv(\"foodstamp_comments_allyears.csv\")"
   ]
  },
  {
   "cell_type": "code",
   "execution_count": 46,
   "metadata": {},
   "outputs": [],
   "source": [
    "#removing rows with body having \"moderator\" word\n",
    "com_data = com_data[~com_data['distinguished'].str.contains('moderator', case=False, na=False)]\n"
   ]
  },
  {
   "cell_type": "code",
   "execution_count": 48,
   "metadata": {},
   "outputs": [],
   "source": [
    "# Group comments by link_id and concatenate all comments per post into a single string\n",
    "grouped_comments = com_data.groupby('link_id')['body'].apply(' '.join).reset_index()"
   ]
  },
  {
   "cell_type": "code",
   "execution_count": 50,
   "metadata": {},
   "outputs": [
    {
     "data": {
      "text/plain": [
       "Index(['score', 'edited', 'quarantine', 'from_id', 'created', 'from_kind',\n",
       "       'subreddit_id', 'url', 'secure_media', 'stickied', 'from', 'author',\n",
       "       'is_self', 'num_comments', 'author_flair_css_class', 'over_18', 'saved',\n",
       "       'name', 'gilded', 'link_flair_css_class', 'id', 'archived', 'selftext',\n",
       "       'media', 'ups', 'retrieved_on', 'link_flair_text', 'permalink',\n",
       "       'thumbnail', 'downs', 'distinguished', 'secure_media_embed', 'title',\n",
       "       'author_flair_text', 'created_utc', 'media_embed', 'hide_score',\n",
       "       'domain', 'subreddit', 'year_month'],\n",
       "      dtype='object')"
      ]
     },
     "execution_count": 50,
     "metadata": {},
     "output_type": "execute_result"
    }
   ],
   "source": [
    "grouped_comments.columns\n",
    "sub_data.columns"
   ]
  },
  {
   "cell_type": "code",
   "execution_count": 51,
   "metadata": {},
   "outputs": [
    {
     "data": {
      "text/plain": [
       "Index(['link_id', 'body'], dtype='object')"
      ]
     },
     "execution_count": 51,
     "metadata": {},
     "output_type": "execute_result"
    }
   ],
   "source": [
    "grouped_comments.columns"
   ]
  },
  {
   "cell_type": "code",
   "execution_count": 66,
   "metadata": {},
   "outputs": [],
   "source": [
    "# Rename 'name' column to 'link_id' in df1 for consistency\n",
    "sub_data.rename(columns={'name': 'link_id'}, inplace=True)\n",
    "\n",
    "# Merge the DataFrames on 'link_id'\n",
    "merged_df = pd.merge(sub_data, grouped_comments, on='link_id')\n",
    "\n",
    "# Create the final DataFrame with selected columns\n",
    "final_df = merged_df[['link_id','author','title', 'selftext', 'body','year_month']]"
   ]
  },
  {
   "cell_type": "code",
   "execution_count": 68,
   "metadata": {},
   "outputs": [],
   "source": [
    "\n",
    "#Sorting the data on date for clarity\n",
    "final_df['year_month'] = pd.to_datetime(final_df['year_month'], format='%Y-%m')\n",
    "final_df = final_df.sort_values(by='year_month')\n",
    "\n",
    "final_df.to_csv(\"merged.csv\")"
   ]
  },
  {
   "cell_type": "code",
   "execution_count": 71,
   "metadata": {},
   "outputs": [],
   "source": [
    "# Extract year and month for grouping\n",
    "final_df['year'] = final_df['year_month'].dt.year\n",
    "final_df['month'] = final_df['year_month'].dt.month\n",
    "\n",
    "# Group by new year and month columns, then count rows\n",
    "result = final_df.groupby(['year', 'month']).size().reset_index(name='counts')\n",
    "\n",
    "# sorting the results\n",
    "result = result.sort_values(by=['year', 'month'])\n",
    "\n",
    "# Storing into csv\n",
    "result.to_csv(\"Number_of_posts.csv\")"
   ]
  },
  {
   "cell_type": "code",
   "execution_count": null,
   "metadata": {},
   "outputs": [],
   "source": []
  }
 ],
 "metadata": {
  "kernelspec": {
   "display_name": "Python 3.10.9 ('base')",
   "language": "python",
   "name": "python3"
  },
  "language_info": {
   "codemirror_mode": {
    "name": "ipython",
    "version": 3
   },
   "file_extension": ".py",
   "mimetype": "text/x-python",
   "name": "python",
   "nbconvert_exporter": "python",
   "pygments_lexer": "ipython3",
   "version": "3.10.9"
  },
  "orig_nbformat": 4,
  "vscode": {
   "interpreter": {
    "hash": "1eb14c017a40174f1cd2873120226af2c3765f9e1b4e1a76ddbb97d090fc061c"
   }
  }
 },
 "nbformat": 4,
 "nbformat_minor": 2
}
